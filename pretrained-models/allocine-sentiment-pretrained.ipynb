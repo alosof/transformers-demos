{
 "cells": [
  {
   "cell_type": "markdown",
   "id": "8a7dcbec",
   "metadata": {},
   "source": [
    "# Imports"
   ]
  },
  {
   "cell_type": "code",
   "execution_count": 1,
   "id": "408ddac5",
   "metadata": {},
   "outputs": [],
   "source": [
    "import gradio as gr\n",
    "\n",
    "from datasets import load_dataset\n",
    "from transformers import pipeline\n",
    "from sklearn.metrics import classification_report"
   ]
  },
  {
   "cell_type": "markdown",
   "id": "3f6b6ea8",
   "metadata": {},
   "source": [
    "# Data loading"
   ]
  },
  {
   "cell_type": "code",
   "execution_count": 2,
   "id": "de46c3ef",
   "metadata": {},
   "outputs": [
    {
     "name": "stderr",
     "output_type": "stream",
     "text": [
      "Found cached dataset allocine (/Users/sofiene.alouini/.cache/huggingface/datasets/allocine/allocine/1.0.0/ea86b1dc05eae3a45a07b6281f2d4033b5fe7927b1008d06aa457ca1eae660d0)\n"
     ]
    },
    {
     "data": {
      "text/plain": [
       "Dataset({\n",
       "    features: ['review', 'label'],\n",
       "    num_rows: 20000\n",
       "})"
      ]
     },
     "execution_count": 2,
     "metadata": {},
     "output_type": "execute_result"
    }
   ],
   "source": [
    "dataset = load_dataset(\"allocine\", split=\"test\")\n",
    "dataset"
   ]
  },
  {
   "cell_type": "code",
   "execution_count": 3,
   "id": "9e58d566",
   "metadata": {
    "scrolled": true
   },
   "outputs": [
    {
     "data": {
      "text/plain": [
       "{0, 1}"
      ]
     },
     "execution_count": 3,
     "metadata": {},
     "output_type": "execute_result"
    }
   ],
   "source": [
    "set(dataset[\"label\"])"
   ]
  },
  {
   "cell_type": "code",
   "execution_count": 4,
   "id": "e4255eda",
   "metadata": {},
   "outputs": [
    {
     "name": "stderr",
     "output_type": "stream",
     "text": [
      "Loading cached processed dataset at /Users/sofiene.alouini/.cache/huggingface/datasets/allocine/allocine/1.0.0/ea86b1dc05eae3a45a07b6281f2d4033b5fe7927b1008d06aa457ca1eae660d0/cache-0cd7e21802fe440c.arrow\n"
     ]
    },
    {
     "name": "stdout",
     "output_type": "stream",
     "text": [
      "=== Label: 0 ===\n",
      "\n",
      "Je n'ai pas aimé mais pourtant je lui mets 2 étoiles car l'expérience est louable. Rien de conventionnel ici. Une visite E.T. mais jonchée d'idées /- originales. Le soucis, tout ceci avait-il vraiment sa place dans un film de S.F. tirant sur l'horreur ? Voici un film qui, à l'inverse de tant d'autres qui y ont droit, mériterait peut-être un remake.\n"
     ]
    }
   ],
   "source": [
    "print(\"=== Label: 0 ===\\n\")\n",
    "\n",
    "negative_example = dataset.filter(lambda row: row[\"label\"] == 0)[\"review\"][0]\n",
    "\n",
    "print(negative_example)"
   ]
  },
  {
   "cell_type": "code",
   "execution_count": 5,
   "id": "c1a75554",
   "metadata": {},
   "outputs": [
    {
     "name": "stderr",
     "output_type": "stream",
     "text": [
      "Loading cached processed dataset at /Users/sofiene.alouini/.cache/huggingface/datasets/allocine/allocine/1.0.0/ea86b1dc05eae3a45a07b6281f2d4033b5fe7927b1008d06aa457ca1eae660d0/cache-eb62a8bd41d6ee93.arrow\n"
     ]
    },
    {
     "name": "stdout",
     "output_type": "stream",
     "text": [
      "=== Label: 1 ===\n",
      "\n",
      "Magnifique épopée, une belle histoire, touchante avec des acteurs qui interprètent très bien leur rôles (Mel Gibson, Heath Ledger, Jason Isaacs...), le genre de film qui se savoure en famille! :)\n"
     ]
    }
   ],
   "source": [
    "print(\"=== Label: 1 ===\\n\")\n",
    "\n",
    "positive_example = dataset.filter(lambda row: row[\"label\"] == 1)[\"review\"][0]\n",
    "\n",
    "print(positive_example)"
   ]
  },
  {
   "cell_type": "markdown",
   "id": "aabdbf83",
   "metadata": {},
   "source": [
    "# Pretrained model loading"
   ]
  },
  {
   "cell_type": "code",
   "execution_count": 6,
   "id": "2fafb794",
   "metadata": {},
   "outputs": [],
   "source": [
    "pipe = pipeline(\"sentiment-analysis\", \"moussaKam/barthez-sentiment-classification\")"
   ]
  },
  {
   "cell_type": "code",
   "execution_count": 7,
   "id": "bbaf0b10",
   "metadata": {
    "scrolled": false
   },
   "outputs": [
    {
     "data": {
      "text/plain": [
       "[{'label': 'Positive', 'score': 0.9999866485595703}]"
      ]
     },
     "execution_count": 7,
     "metadata": {},
     "output_type": "execute_result"
    }
   ],
   "source": [
    "pipe(positive_example)"
   ]
  },
  {
   "cell_type": "code",
   "execution_count": 8,
   "id": "c7a2802a",
   "metadata": {},
   "outputs": [
    {
     "data": {
      "text/plain": [
       "[{'label': 'Negative', 'score': 0.9999935626983643}]"
      ]
     },
     "execution_count": 8,
     "metadata": {},
     "output_type": "execute_result"
    }
   ],
   "source": [
    "pipe(negative_example)"
   ]
  },
  {
   "cell_type": "markdown",
   "id": "354883e3",
   "metadata": {},
   "source": [
    "# Demo"
   ]
  },
  {
   "cell_type": "code",
   "execution_count": 9,
   "id": "5e2c6fd8",
   "metadata": {},
   "outputs": [],
   "source": [
    "sample_dataset = dataset[:500]"
   ]
  },
  {
   "cell_type": "code",
   "execution_count": 10,
   "id": "bb25de1b",
   "metadata": {},
   "outputs": [
    {
     "name": "stdout",
     "output_type": "stream",
     "text": [
      "[1, 0, 1, 0, 0, 1, 1, 1, 1, 0, 1, 1, 0, 1, 0, 0, 1, 0, 1, 0, 0, 0, 1, 0, 1, 1, 0, 0, 0, 1, 1, 0, 1, 1, 0, 1, 1, 0, 1, 0, 1, 1, 0, 1, 0, 1, 1, 0, 0, 1, 1, 0, 0, 1, 1, 0, 0, 1, 1, 0, 0, 1, 0, 1, 0, 0, 1, 1, 1, 0, 1, 0, 0, 1, 1, 0, 0, 0, 1, 0, 1, 0, 0, 0, 1, 0, 1, 1, 1, 0, 1, 1, 1, 0, 0, 0, 1, 0, 1, 0, 1, 0, 0, 1, 0, 0, 0, 0, 1, 0, 1, 0, 0, 0, 1, 0, 1, 1, 0, 0, 1, 0, 1, 1, 1, 1, 0, 0, 1, 1, 0, 1, 0, 0, 0, 1, 0, 1, 1, 1, 0, 1, 1, 0, 0, 0, 0, 1, 0, 1, 0, 0, 0, 1, 1, 1, 0, 1, 0, 1, 0, 0, 1, 1, 0, 0, 1, 1, 0, 0, 0, 1, 1, 1, 0, 0, 1, 1, 0, 0, 1, 0, 1, 0, 0, 0, 1, 0, 0, 1, 1, 0, 0, 1, 1, 0, 1, 0, 0, 1, 0, 1, 1, 0, 0, 0, 0, 1, 0, 1, 1, 0, 1, 1, 0, 1, 0, 1, 1, 1, 0, 1, 1, 1, 1, 0, 0, 0, 1, 1, 1, 0, 1, 0, 1, 0, 1, 0, 0, 0, 0, 0, 0, 0, 0, 0, 1, 0, 1, 1, 0, 1, 1, 0, 0, 1, 0, 0, 0, 0, 0, 0, 1, 1, 0, 0, 0, 0, 1, 1, 1, 0, 0, 1, 0, 0, 1, 1, 1, 0, 0, 0, 0, 0, 1, 1, 1, 0, 0, 1, 0, 1, 0, 1, 1, 1, 1, 0, 0, 1, 1, 0, 0, 1, 1, 0, 1, 1, 0, 0, 1, 0, 0, 0, 1, 1, 0, 0, 1, 1, 1, 0, 1, 1, 1, 1, 0, 1, 0, 0, 0, 0, 0, 0, 0, 1, 1, 0, 0, 0, 0, 1, 0, 0, 0, 0, 0, 0, 1, 1, 1, 1, 0, 0, 0, 1, 1, 1, 0, 0, 0, 1, 1, 1, 0, 1, 1, 1, 0, 1, 1, 0, 0, 0, 0, 0, 0, 1, 1, 1, 1, 1, 1, 1, 0, 1, 0, 0, 1, 1, 1, 1, 0, 0, 0, 1, 1, 1, 0, 0, 0, 1, 0, 0, 0, 1, 1, 0, 0, 1, 0, 0, 0, 0, 0, 1, 1, 1, 0, 1, 0, 0, 0, 0, 0, 0, 0, 0, 1, 1, 0, 1, 0, 1, 0, 0, 1, 0, 1, 1, 1, 1, 0, 1, 0, 0, 0, 1, 1, 0, 1, 1, 0, 0, 0, 0, 1, 0, 0, 1, 1, 1, 1, 1, 0, 0, 0, 1, 1, 0, 0, 0, 1, 0, 0, 1, 1, 1, 1, 0, 0, 1, 0, 1, 0, 0, 0, 0, 1, 1, 0, 0, 0, 0, 0, 0, 1, 1, 0, 1]\n"
     ]
    }
   ],
   "source": [
    "ground_truth = sample_dataset[\"label\"]\n",
    "\n",
    "print(ground_truth)"
   ]
  },
  {
   "cell_type": "code",
   "execution_count": 11,
   "id": "32af4665",
   "metadata": {
    "scrolled": true
   },
   "outputs": [
    {
     "name": "stdout",
     "output_type": "stream",
     "text": [
      "[1, 0, 1, 0, 0, 1, 1, 1, 1, 0, 1, 1, 0, 1, 0, 0, 1, 0, 1, 0, 0, 0, 1, 0, 1, 1, 0, 0, 0, 1, 1, 0, 1, 1, 0, 1, 1, 0, 1, 0, 0, 1, 0, 1, 0, 1, 1, 0, 0, 1, 1, 0, 0, 1, 0, 0, 0, 1, 1, 0, 0, 1, 0, 1, 0, 0, 1, 0, 0, 0, 1, 0, 0, 1, 1, 0, 0, 0, 1, 0, 1, 0, 0, 0, 1, 0, 0, 1, 1, 0, 1, 1, 1, 0, 0, 1, 1, 0, 1, 0, 1, 0, 0, 1, 0, 0, 0, 0, 0, 0, 1, 0, 0, 0, 1, 0, 1, 1, 1, 0, 1, 0, 1, 1, 1, 0, 0, 0, 1, 1, 0, 1, 0, 0, 0, 1, 0, 1, 1, 1, 0, 1, 1, 0, 0, 0, 0, 1, 0, 1, 0, 0, 0, 1, 1, 1, 0, 1, 0, 1, 0, 0, 1, 1, 0, 0, 1, 1, 0, 0, 0, 1, 1, 1, 0, 0, 1, 1, 0, 0, 1, 0, 1, 0, 1, 0, 1, 0, 1, 1, 1, 0, 0, 1, 1, 0, 0, 0, 0, 1, 0, 0, 1, 0, 0, 0, 0, 1, 0, 1, 1, 0, 1, 1, 0, 1, 0, 1, 1, 1, 0, 1, 1, 1, 1, 0, 0, 0, 1, 1, 1, 0, 1, 0, 0, 0, 1, 0, 0, 0, 0, 0, 0, 0, 0, 0, 1, 0, 1, 0, 0, 1, 1, 0, 0, 1, 0, 0, 0, 0, 0, 0, 1, 1, 0, 0, 0, 0, 1, 1, 1, 0, 0, 1, 0, 0, 1, 1, 1, 0, 0, 0, 0, 0, 1, 1, 1, 0, 0, 0, 0, 1, 0, 1, 1, 1, 1, 0, 1, 1, 1, 0, 0, 1, 1, 0, 1, 1, 0, 0, 1, 0, 0, 0, 1, 1, 0, 0, 1, 1, 1, 0, 1, 1, 1, 1, 0, 1, 0, 0, 0, 0, 0, 0, 0, 1, 1, 0, 0, 0, 0, 1, 0, 0, 0, 0, 0, 0, 1, 1, 1, 1, 0, 0, 0, 1, 1, 1, 0, 0, 0, 1, 1, 1, 0, 1, 1, 1, 0, 1, 1, 0, 0, 0, 0, 1, 0, 1, 1, 1, 1, 1, 1, 1, 0, 1, 0, 0, 0, 1, 1, 1, 0, 0, 0, 1, 1, 1, 0, 0, 0, 1, 0, 0, 0, 1, 1, 0, 0, 1, 0, 0, 0, 0, 0, 1, 1, 1, 0, 1, 0, 0, 0, 0, 0, 0, 0, 0, 1, 1, 0, 1, 0, 1, 0, 0, 1, 0, 1, 0, 1, 1, 0, 1, 0, 0, 0, 1, 1, 0, 1, 1, 0, 0, 0, 0, 1, 0, 1, 1, 1, 1, 1, 1, 1, 0, 0, 1, 1, 0, 0, 0, 1, 0, 0, 0, 1, 1, 0, 0, 0, 1, 0, 1, 0, 0, 0, 1, 1, 1, 0, 1, 1, 0, 0, 0, 1, 1, 0, 1]\n"
     ]
    }
   ],
   "source": [
    "sample_predictions = [\n",
    "    1 if pred[\"label\"] == \"Positive\" else 0\n",
    "    for pred in pipe(sample_dataset[\"review\"])\n",
    "]\n",
    "\n",
    "print(sample_predictions)"
   ]
  },
  {
   "cell_type": "code",
   "execution_count": 12,
   "id": "04d0e06e",
   "metadata": {},
   "outputs": [
    {
     "name": "stdout",
     "output_type": "stream",
     "text": [
      "              precision    recall  f1-score   support\n",
      "\n",
      "           0       0.94      0.96      0.95       266\n",
      "           1       0.95      0.93      0.94       234\n",
      "\n",
      "    accuracy                           0.95       500\n",
      "   macro avg       0.95      0.95      0.95       500\n",
      "weighted avg       0.95      0.95      0.95       500\n",
      "\n"
     ]
    }
   ],
   "source": [
    "print(classification_report(ground_truth, sample_predictions))"
   ]
  },
  {
   "cell_type": "code",
   "execution_count": 13,
   "id": "f6a595d6",
   "metadata": {
    "scrolled": false
   },
   "outputs": [
    {
     "name": "stdout",
     "output_type": "stream",
     "text": [
      "Une belle reconstitution des derniers mois des Indes britanniques mêlant ingénieusement petite et grande histoire. Seul vrai défaut : c'est trop court ! Une mini-série serait bienvenue. Une critique plus détaillée et d'autres sur le-blog-d-elisabeth-g.blogspot.fr \n",
      "\n",
      "> Ground truth: 1\n",
      "> Prediction: 0\n",
      "\n",
      "========================\n",
      "\n",
      "Je vais très rarement voir des films français. Par contre, je suis de près la carrière du comédien Gaspard Ulliel depuis JACQUOU LE CROQUANT. Récemment, je n'avais pas pu aller voir UN BARRAGE CONTRE LE PACIFIQUE, après des critiques castastrophiques, il n'était pas sorti dans mon parc habituel de salles de cinéma à Lyon. Même si LE PREMIER CERCLE, gros polar d'action, est nettement plus attirant, sa sortie est plombée par celles de MARLEY ET MOI et WATCHMEN. La plupart des médias ne signalent pas sa sortie cette semaine (Ils ne l'ont donc pas vu ?) et pour le peu, les critiques sont detestables. Encore un film, malgré un casting éclatant, qui va vite disparaître des écrans. Après un début en trombe, le film est victime de gros problèmes de rythme durant lesquelles on s'ennuie. Les quelques scènes d'action sont superbes mais trop rares ! Et dire qu'on présente le PREMIER CERCLE comme un grand film d'action ... A des moments, on a envie d'une bonne bagarre, mais cela n'arrive pas. Les paysages de la côte d'Azur et de Nice sont réussis, les couleurs des images sont assez belles. Gaspard Ulliel, en cuir et santiags, a pris encore de l'épaisseur physique. Son jeu est plus viril, charismatique et imposant, alors qu'au début de sa carrière, il avait un physique androgyne que je n'aimais pas trop. Ses scènes avec Jean Reno sont intenses mais pas assez approfondies. La fin est inattendue et plutôt émouvante. J'ai passé un bon moment mais tout cela aurait quand même encore mieux.... \n",
      "\n",
      "> Ground truth: 1\n",
      "> Prediction: 0\n",
      "\n",
      "========================\n",
      "\n",
      "ce film est pour moi a moitié un documentaire sur la chine rurale des années 90 & les injustice que supportent les femmes de ces régions & a moitié une vraiment belle histoire qui prend son temps mais se laisse finalement regarder. bravo au directeur de la photo qui nous déniche la quelque diaporama digne des plus belles cartes postales. \n",
      "\n",
      "> Ground truth: 1\n",
      "> Prediction: 0\n",
      "\n",
      "========================\n",
      "\n",
      "Alan Clarke a réalisé Elephant produit pour la BBC de l'Irlande du Nord en 1988. Tourné à Belfast, Elephant décrit une série de 18 meurtres. Aucune explication n'est donnée au spectateur sur les mobiles des meurtres qui sont commis durant les 38 minutes du film. Les seuls protagonistes sont les meurtriers et les victimes et quelques personnages qui sont parfois montrés avec ces derniers mais qui s'échappent après le meurtre. Le film se concentre sur la violence, les meurtres perpétués dans l'anonymat le plus total et dans les lieux ordinaires comme dans une piscine publique, un parking, un entrepot, une station essence...Les assassins surprennent leurs victimes sur leurs lieux de travail ou pendant qu'ils sont en train d'accomplir les tâches du quotidien. De même que les assassins et les victimes sont généralement habillés de manière très ordinaire, portant des jeans, des pull-overs, des manteaux, des tenues de travail ou survêtements. La violence est donc banalisée, les travellings (repris par Gus Van Sant dans son Elephant) font naitre un sentiment de malaise car très longs. Le cycle de violence recommence après chaque meurtre. Alan Clarke à la manière de Gus Van Sant (mais encore plus radicalement) fait des constats, ne donne aucune explication politique, sociale ou économique. Le cycle de la violence est donc incessant (le dernier meurtre en est que plus flagrant).La violence est donc transformée en un vécu ordinaire où la distinction entre meurtriers et victimes est impossible à faire tant ils se ressemblent. Il est important de signaler que Elephant évoque la guerre en Irlande du Nord, la violence incompréhensible et inexplicable. Etonnant. \n",
      "\n",
      "> Ground truth: 1\n",
      "> Prediction: 0\n",
      "\n",
      "========================\n",
      "\n",
      "Brian De Palma nous démontre une nouvelle fois son talent dans ce film aussi bien mis en scène que scénarisé. Le casting est d'excellente facture mais l'ambiance de la série est, je trouve, peu respectée. A voir au moins une fois. \n",
      "\n",
      "> Ground truth: 1\n",
      "> Prediction: 0\n",
      "\n",
      "========================\n",
      "\n",
      "Cette satire sur le fuhrer est drôle, un humour \"juif\" ironique. Une fois vu, bon... \n",
      "\n",
      "> Ground truth: 0\n",
      "> Prediction: 1\n",
      "\n",
      "========================\n",
      "\n",
      "L'arnaque aux assurances, William Friedkin s'en fiche et ne la filme même pas, ce qui l'intéresse c'est de montrer une famille américaine en marge et dysfonctionnelle. Et le tableau est gratiné. Appat du gain, rapports troubles, inceste qui rode, adultère, violence des rapports, drogues et alcools dans les parages, télé toujours en marche, Friedklin excerce sa misanthropie sur des personnages inconséquents et sans savoir-vivre, experts en débrouille mais pas en intelligence. Sa critique est féroce mais montre sans juger. Mc Conaughey est impressionnant mais la clé de l'intrigue repose sur la jeune Dottie-Juno Temple, symbole de ce qui peut encore rester de pureté, de candeur au sein de sa famille, enfermée constamment dans sa chambre, que chacun cherche à préserver et qui représente le passeport pour une vie meilleure \n",
      "\n",
      "> Ground truth: 1\n",
      "> Prediction: 0\n",
      "\n",
      "========================\n",
      "\n",
      "Dans les années 30, un détective privé et un policier font équipe pour enquêter sur la mort d'une connaissance. \"City Heat\" se veut comme un mélange de film noir et de comédie, mais gère difficilement l'équilibre entre les deux. Il n'y a ainsi que rarement de la tension, et peu de moments vraiment drôles, malgré quelques bonnes idées. D'autant plus que l'intrigue est assez prévisible, et la mise en scène peu inspirée. Toutefois, les décors sont de qualité, et le tandem principal fonctionne très bien : Clint Eastwood en ersatz de Dirty Harry mutique et expéditif, qui convient parfaitement à l'ambiance film noir, et Burt Reynolds, qui a toujours le bon mot en détective insolent et débrouillard. \n",
      "\n",
      "> Ground truth: 0\n",
      "> Prediction: 1\n",
      "\n",
      "========================\n",
      "\n",
      "\"Un mutant à l’énergie dense, jamais conçu pour la production en série, trop bizarre pour vivre et trop rare pour mourir.\" Cette phrase résume à elle-seule ce qu'est ce film, aux allures bizarroïdes, éloigné des carcans de ces longs-métrages parfois trop pompeux, trop violents ou souvent trop commerciaux. Il n'y ait pas une prise de vue qui soit anodine, par une seule séquence qui ne soit minutieusement étudiée. Le film tourne autour d'un thème sans jamais s'y poser, envoyant balader l'intrigue rassurante qui va de A à Z : ici tout est incohérent, tout force à l'être, à le montrer, à le penser. Les gens qui ont besoin de logique et d'histoire bien ficelée détesteront ce film : tout comme ils détesteront ce qu'il raconte, avec ces deux personnages au comportement décousu qui nous donnent mal au coeur et au crâne. Mais là est le but. Las Vegas parano est une critique de la déchéance humaine à toute échelle sur une note de comédie, si bien que tout le monde y passe : flic comme vieux riches, pauvres types, sans un sou, couple lambda, religieux ou agnostique. Ce film fait partie de ces ovnis du cinéma qui poussent à ce qu'on les déteste et puis...et puis il arrive qu'on ne le puisse pas! \n",
      "\n",
      "> Ground truth: 1\n",
      "> Prediction: 0\n",
      "\n",
      "========================\n",
      "\n",
      "Allons-y doucement ! Non, le film n'est pas mal mais... Quand vous donnez quatre étoiles à ce film, que donnez vous à un chef d'oeuvre ? \n",
      "\n",
      "> Ground truth: 0\n",
      "> Prediction: 1\n",
      "\n",
      "========================\n",
      "\n",
      "J'ai envie de dire: LOL! Le film se résume ainsi: \"Je t'aime, tu m'aimes? - Oui je t'aime et toi tu m'aimes? - Oui mais là je vais me fiancer. Ecoute c'est pas facile... mais j't'écrirai pour t'expliquer tout ca * 10 000 ans plus tard * - Je t'aime, tu m'aimes? - Oui je t'aime mais là c'est chaud, écoute on s'écrit! * fin du scénario * - bon là on a plus d'idée, on reste ensemble? - Ok on s'écrira plus tard...\" Si ce résumé plaît, alors n'hésitez pas... FONCEZ!!!! xD \n",
      "\n",
      "> Ground truth: 0\n",
      "> Prediction: 1\n",
      "\n",
      "========================\n",
      "\n",
      "Comment ne pas aimer un jeune réalisateur comme Emmanuel Mouret qui, comme nous, et à la différence de 99% des gens de sa génération, est fan de Guitry, de Rohmer et de Blake Edwards ? Comment ne pas aimer ce \"Fais-moi Plaisir !\", finalement un peu en dépit de ces références par trop envahissantes (l'introduction bavarde évoque Guitry, la scène impeccable de la réception travaille le patrimoine de la \"Party\", et la fin, douce amère, pourrait être un vrai \"conte moral\") pour d'autres qualités que son côté \"bon élève\" un peu irritant ? En fait, on aime plutôt que Mouret aime les belles femmes, et sache les filmer (comme Woody Allen ? Bon, arrêtons les références !). Et on admire aussi chez lui une vraie élégance morale, une sorte de courtoisie extraordinairement \"dépassée\", d'un autre siècle, qui fait de \"Fais-moi Plaisir\" une sorte d'OVNI ravissant, mais qui en irritera, inévitablement, plus d'un... \n",
      "\n",
      "> Ground truth: 1\n",
      "> Prediction: 0\n",
      "\n",
      "========================\n",
      "\n",
      "Un scénario terriblement banal, presque discutable. A vrai dire, le spectacle est ailleurs. Humour noir anglais, répliques cultes, situations vraiment drôle. Cela faisait bien longtemps que je n'avais pas tant ri devant un film. Alors biensur ce n'est pas du grand cinéma mais la salle est ressortie ravie et amusée. Moi aussi. Five stars !! En revanche gros carton rouge pour la traduction française du titre ... mais où vont-ils inventer ça ... ? \n",
      "\n",
      "> Ground truth: 1\n",
      "> Prediction: 0\n",
      "\n",
      "========================\n",
      "\n",
      "Certes c'est toujours trés drôle et bien réalisé mis on sent malgré tout que la série s'essoufle. Les gags ne sont pas aussi savoureux que dans le opus précédent, dommage... \n",
      "\n",
      "> Ground truth: 1\n",
      "> Prediction: 0\n",
      "\n",
      "========================\n",
      "\n",
      "c'est en le revisionnant que j'ai complètement révisé mon jugement sur ce film, tout ce qui m'avait paru faire défaut me semble aujourd'hui être une qualité, la pauvreté des moyens n'en font qu'une œuvre plus noire, et Romero s'est concentré sur l'essentiel, ses personnages. \n",
      "\n",
      "> Ground truth: 1\n",
      "> Prediction: 0\n",
      "\n",
      "========================\n",
      "\n",
      "Une histoire émotionnellement forte mais un brin réactionnaire, mise en scène avec un certain talent, portée par un Denzel Washington en grande forme, peut-être l'un de ses meilleurs rôles et un Dan Hedaya génialement vénéneux en flic raciste et haineux. Un bon film mais quand même desservi par une émotion forcée et une inclination au larmoyant et au poignant trop prégnant. \n",
      "\n",
      "> Ground truth: 1\n",
      "> Prediction: 0\n",
      "\n",
      "========================\n",
      "\n",
      "Un documentaire qui réussit à maintenir le spectateur hors de son sommeil. \n",
      "\n",
      "> Ground truth: 0\n",
      "> Prediction: 1\n",
      "\n",
      "========================\n",
      "\n",
      "Je vais faire simple ,ce film est comme un soufflet en train de cuire dans un four ,il gonfle ,il gonfle,il gonfle ,la tu te dis que tu vas te régaler vu son apparence appétissante et au moment juste ou tu le sors tout gonflé toi la bave a la bouche pppssssshhhhittttt !!!!!!!!! on passe de soufflé à paté .Voila c'est ca Avalon ,un soufflet qui se transforme au dernier moment en Paté.Mais bon comme je le dis souvent \"faut le voir pour me croire\". \n",
      "\n",
      "> Ground truth: 0\n",
      "> Prediction: 1\n",
      "\n",
      "========================\n",
      "\n",
      "Houla ! Cela faisait très longtemps que je n'avais pas ri autant. Je crois que ceux qui attendaient un vrai film de SF sont déçus, et pourtant il était clair dès la bande annonce que le second degré serait de la partie. C'est un film plus intelligent qu'il n'y paraît, et qui ne peut marcher sans avoir une bonne culture générale, sur le nazisme, les Etats-Unis, le film \"La Chute\" et la Corée du Nord (attention : spoiler !). C'est quand même énorme, les States dirigés par Sarah Palin se défendant contre des nazis plus abrutis et bêtes les un que les autres, le tout avec une bande son de Laibach, groupe slovène pourtant réputé pro-nazi qui joue ici à fond dans la confusion des genres. Franchement, il fallait oser. Comme le disait un autre internaute, c'est assez proche de Tarantino, surtout si on se rapporte à \"Inglorious Basterds\". Les femmes y ont, comme chez lui, un rôle important et valorisant, même si certaines sont complètement barrées à l'image de la métis asiatique qui dirige l'agence de communication de la présidente . C'est très jouissif et tout le monde en prend pour son grade. Si le film avait été américain, il serait sorti sur les écrans. Hélas il n'est que scandiniavo-australien et se contente d'une piètre sortie en DVD. C'est bien dommage, car il vaut largement bon nombre de films US de base sans saveur et convenus qu'on nous balance à longueur de mois. \n",
      "\n",
      "> Ground truth: 1\n",
      "> Prediction: 0\n",
      "\n",
      "========================\n",
      "\n",
      "Un polar sombre, qui se laisse voir et rappelle le Samouraï de JP Melville. Peu de dialogues et beaucoup de coups de feu. Johnny égal à lui même. \n",
      "\n",
      "> Ground truth: 1\n",
      "> Prediction: 0\n",
      "\n",
      "========================\n",
      "\n",
      "De quoi parle ce film? Des quarantenaire, d'un groupe de personnages aux goûts, aux avis différents, qui malgré cela vont devoir rester ensemble durant le film. On y parle du racisme, plus particulièrement d'un homme qui voit du racisme partout, d'une politique féministe, d'un ex caméraman trop réveur pour être bon dans son métier. C'est tout ce que j'arrive à dire de ce film. \n",
      "\n",
      "> Ground truth: 0\n",
      "> Prediction: 1\n",
      "\n",
      "========================\n",
      "\n",
      "En voilà une bonne question! \n",
      "\n",
      "> Ground truth: 0\n",
      "> Prediction: 1\n",
      "\n",
      "========================\n",
      "\n",
      "j'ai eu du mal à le trouver ce film, finalement je l'ai chopé un soir sur m6 . je trouve qu'il est sous estimé, il est prenant et puis il y a une critique sociale sur les dechets radioactifs dont veulent se débarrasser les autorités, avec ce petit plus, il arrive tout juste aux 3 étoiles . \n",
      "\n",
      "> Ground truth: 1\n",
      "> Prediction: 0\n",
      "\n",
      "========================\n",
      "\n",
      "Les Bronzés, premier du nom m'avait relativement déçu. Mais bon, j'ai gardé espoir en cette saga, et j'ai regardé le second volet dont on m'avait dit qu'il était meilleur que le premier. Et bien là j'ai été satisfait, là je me suis bien marré. On retrouve notre troupe d'amis, mais là, leur caractère est poussé au maximum dans l'excentricité, les gags s'enchaînent et sont bien écrits. Là où le premier m'avait déçu, c'est que les personnages étaient normaux, et que le récit suivait une continuité d'événements normaux, mais là, il n'y a pas de continuité : les gags s'enchaînent sans que leur ordre soit important, les situations sont loufoques et délirantes et on rit ! D'autant plus que les dialogues sont efficaces. On a un Jean-Claude Dusse toujours aussi ridicule et les autres personnages ont leur caractère très évolué et bien poussé, sauf, et là on arrive au gros hic du film : Christiane et Gigi qui sont des personnages banaux par rapport aux autres. C'est dommage, leur caractère aurait pu être plus développé dans l'excès. Les Bronzés font du ski est une suite bien meilleure que le précédent. Même si le film n'atteint pas la puissance comique du Père Noël est une ordure ou du Dîner de cons, c'est quand même drôle et rafraîchissant. À voir. \n",
      "\n",
      "> Ground truth: 1\n",
      "> Prediction: 0\n",
      "\n",
      "========================\n",
      "\n",
      "un bel exemple de ce qu'un \"amateur\" peut produire avec un budget de 326 euros et 14 heures de tournage . un film, rentabilisé dès sa première semaine de sortie, et déprogrammé le lendemain. à voir (trois minutes), pour comprendre.... \n",
      "\n",
      "> Ground truth: 0\n",
      "> Prediction: 1\n",
      "\n",
      "========================\n",
      "\n",
      "Quand on regarde un film de ce genre on se dit ok on passe la mise en scéne,le scénario et place aux bastons et à l'incroyable sonny chiba.Mais dans cette suite il est difficile de ne pas faire attention à l'incapacité du réalisateur à choisir des bons cadrages,et à savoir rythmer le tout avec un bon montage.Ce volet montre l'anarchie qui a pu régner durant le montage mais aussi la rapidité dans laquelle il a été pondu.Bref tout le monde veut de l'action mais il y a une facon de le faire. \n",
      "\n",
      "> Ground truth: 0\n",
      "> Prediction: 1\n",
      "\n",
      "========================\n",
      "\n",
      "Avec ses 60 heures de rushes, Valérie Messadian, pour son premier essai, ne pouvait s'en tenir au format court qu'elle avait prévu à l'origine. Du coup, Nana est devenu un moyen/long métrage d'une durée de 68 minutes. Photographe reconnue, l'apprentie cinéaste a un sens de l'image indéniable et une vision claire de la mise en scène : pas de mouvements de caméra et une abondance de plans larges. Le son, également, est très travaillé. Ces qualités techniques auraient presque tendance à faire passer le scénario au second plan. Il est vrai qu'il est mince et susceptible d'être lu de différentes façons. Un film sur la survie, dans une maison isolée, d'une fillette de 4 ans abandonnée ? Une oeuvre sur la vie et la mort, dans un cadre rural, et dont le premier plan est l'égorgement d'un cochon ? Nana est un conte cruel, avec la découverte de solitude d'une enfant, dans le silence de la nature. Celle-ci n'est jamais oppressante, au contraire, et la petite fille tue le temps en jouant, en babillant (il y a peu d'autres paroles prononcées) et en reproduisant les gestes des adultes. Valérie Messadian voulait sortir des sentiers battus de la narration. Mission accomplie, même si elle impose pour cela un style contemplatif et une esthétique très marquée qui trahissent une volonté de se démarquer ostensiblement de la production courante, sans avoir à sa disposition une histoire suffisamment forte. En revanche, concernant la prestation de la petite Kelyna Lecomte, qui tient le film sur ses frêles épaules, il n'y a que des louanges à tresser. Elle est stupéfiante de naturel. \n",
      "\n",
      "> Ground truth: 0\n",
      "> Prediction: 1\n",
      "\n",
      "========================\n",
      "\n"
     ]
    }
   ],
   "source": [
    "for i in range(len(sample_dataset[\"review\"])):\n",
    "    if ground_truth[i] != sample_predictions[i]:\n",
    "        print(sample_dataset[\"review\"][i], \"\\n\")\n",
    "        print(f\"> Ground truth:\", ground_truth[i])\n",
    "        print(f\"> Prediction:\", sample_predictions[i])\n",
    "        print(\"\\n========================\\n\")"
   ]
  }
 ],
 "metadata": {
  "kernelspec": {
   "display_name": "Python 3 (ipykernel)",
   "language": "python",
   "name": "python3"
  },
  "language_info": {
   "codemirror_mode": {
    "name": "ipython",
    "version": 3
   },
   "file_extension": ".py",
   "mimetype": "text/x-python",
   "name": "python",
   "nbconvert_exporter": "python",
   "pygments_lexer": "ipython3",
   "version": "3.10.6"
  }
 },
 "nbformat": 4,
 "nbformat_minor": 5
}
