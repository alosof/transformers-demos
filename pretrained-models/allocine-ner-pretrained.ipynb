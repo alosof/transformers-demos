{
 "cells": [
  {
   "cell_type": "markdown",
   "id": "97790113",
   "metadata": {},
   "source": [
    "# Imports"
   ]
  },
  {
   "cell_type": "code",
   "execution_count": 1,
   "id": "372ba6c6",
   "metadata": {},
   "outputs": [],
   "source": [
    "import gradio as gr\n",
    "\n",
    "from datasets import load_dataset\n",
    "from transformers import pipeline"
   ]
  },
  {
   "cell_type": "markdown",
   "id": "8d8b18fd",
   "metadata": {},
   "source": [
    "# Data loading"
   ]
  },
  {
   "cell_type": "code",
   "execution_count": 2,
   "id": "7f7bf129",
   "metadata": {},
   "outputs": [
    {
     "name": "stderr",
     "output_type": "stream",
     "text": [
      "Found cached dataset allocine (/Users/sofiene.alouini/.cache/huggingface/datasets/allocine/allocine/1.0.0/ea86b1dc05eae3a45a07b6281f2d4033b5fe7927b1008d06aa457ca1eae660d0)\n"
     ]
    }
   ],
   "source": [
    "dataset = load_dataset(\"allocine\", split=\"test\")[\"review\"]"
   ]
  },
  {
   "cell_type": "code",
   "execution_count": 3,
   "id": "44411f38",
   "metadata": {
    "scrolled": false
   },
   "outputs": [
    {
     "name": "stdout",
     "output_type": "stream",
     "text": [
      "=== Exemple 0 ===\n",
      "Magnifique épopée, une belle histoire, touchante avec des acteurs qui interprètent très bien leur rôles (Mel Gibson, Heath Ledger, Jason Isaacs...), le genre de film qui se savoure en famille! :)\n",
      "\n",
      "=== Exemple 16 ===\n",
      "Eli Roth est un réalisateur intéressant et redoutable d'efficacité. Bruce Willis fidèle à lui-même, le film ne révolutionne pas le genre mais il a son charme et pose de bonnes questions.\n",
      "\n",
      "=== Exemple 22 ===\n",
      "Alors oui on est loin du \"Parrain\" très loin de \"Apocalypse Now\" mais on le regarde en partie parce que c'est Coppola à la réalisation. Sans s'attendre à un chef d'oeuvre, on en reste pas moins conquit par ce film. L’esthétique de Poe (Notamment sa nouvelle \"la Maison Usher\") mêlé à la mélancolie Baudelerienne nous fait oublié le pas pataud et hésitant de Val Kilmer miné par quelques kilos en trop ( Bien que sont jeu d'acteur reste tout a fait correct). Coppola revient à une atmosphère plus gothique comme l'était sa vision très personnel du Dracula de Bram Stoker, non s'en emprunté des prises de vues qui rappellerait Burton ou même Lars Von Trier. Sans prendre de risque dans le scénario qui laisse une grande interprétation au spectateur, Coppola change une nouvelle fois de route après les très étrange \"L'Homme sans Age\" et \"Tetro\". Bref sa fonctionne et ce film est à découvrir.\n",
      "\n",
      "=== Exemple 23 ===\n",
      "Il y a maintenant presque 50ans, un petit cinéaste, quasiment oublié aujourd'hui, du nom de Fritz Lang (auteur de quelques séries B tel que \"Métropolis\", \"M Le Maudit\" ou le génial \"Fury\" avec Spencer Tracy) réalisa un film noir du nom de \"L'Invraisemblable Vérité\" au sujet assez étrangemment voisin du film ici présent. Un petit bijou noir, plein de rebondissements, non démonstratif dans son propos, volontiers ambigu et laissant pourtant un goût amer dans la bouche, même lorsque la vérité venait conforter la sanction. Alan Parker, immense cinéaste, glorieux réalisateur de films tels \"Midnight Express\" (et oui, les prisons turcs c'est pas géré par les mecs d'Amnesty International aù cas où vous seriez pas au courant), \"Birdie\" (et oui, pas facile de voler comme un aigle royal quand on est un bipéde à station verticale et qu'on a pas d'ailes), et \"Angel Heart\" (là pour le coup, je serais faux-cul d'en dire trop de mal), se lance dans la démonstration avec virulence avec comme cible le pas gentil système répressif américain, qui tue des innocents. Car, et là vous tenez un scoop, il paraît qu'on condamne parfois des innocents à la peine capitale. Nous voilà renseignés. Et donc, le sieur Parker réussit la double gageure de pondre un film à la fois horriblement démonstratif (au moins, un tract ne demande pas de perdre deux heures de sa vie) et parfaitement malhonnète, prenant le spectateur pour un crétin (ce qu'il est parfois, soit) en le bombardant de rebondissements et de zones d'ombre comme on le ferait de publicités et tout ça pour aboutir à des évidences. La question terrible qui subsiste à la fin de ce maelstrom est la suivante: quand il y a un message, ne faudrait-il pas qu'il y ait un propos?\n",
      "\n"
     ]
    }
   ],
   "source": [
    "indices = [0, 16, 22, 23]\n",
    "\n",
    "examples = [dataset[i] for i in indices]\n",
    "\n",
    "for i in indices:\n",
    "    print(f\"=== Exemple {i} ===\")\n",
    "    print(dataset[i])\n",
    "    print()"
   ]
  },
  {
   "cell_type": "markdown",
   "id": "753dc304",
   "metadata": {},
   "source": [
    "# Pretrained model loading"
   ]
  },
  {
   "cell_type": "code",
   "execution_count": 4,
   "id": "8840d89f",
   "metadata": {},
   "outputs": [],
   "source": [
    "pipe = pipeline(\"ner\", \"Jean-Baptiste/camembert-ner-with-dates\")"
   ]
  },
  {
   "cell_type": "code",
   "execution_count": 5,
   "id": "5217633b",
   "metadata": {},
   "outputs": [
    {
     "data": {
      "text/plain": [
       "[{'entity': 'I-PER',\n",
       "  'score': 0.99518096,\n",
       "  'index': 22,\n",
       "  'word': 'M',\n",
       "  'start': 105,\n",
       "  'end': 106},\n",
       " {'entity': 'I-PER',\n",
       "  'score': 0.99514526,\n",
       "  'index': 23,\n",
       "  'word': 'el',\n",
       "  'start': 106,\n",
       "  'end': 108},\n",
       " {'entity': 'I-PER',\n",
       "  'score': 0.9953176,\n",
       "  'index': 24,\n",
       "  'word': '▁Gi',\n",
       "  'start': 108,\n",
       "  'end': 111},\n",
       " {'entity': 'I-PER',\n",
       "  'score': 0.9953532,\n",
       "  'index': 25,\n",
       "  'word': 'b',\n",
       "  'start': 111,\n",
       "  'end': 112},\n",
       " {'entity': 'I-PER',\n",
       "  'score': 0.9953011,\n",
       "  'index': 26,\n",
       "  'word': 'son',\n",
       "  'start': 112,\n",
       "  'end': 115},\n",
       " {'entity': 'I-PER',\n",
       "  'score': 0.9950518,\n",
       "  'index': 28,\n",
       "  'word': '▁Heat',\n",
       "  'start': 116,\n",
       "  'end': 121},\n",
       " {'entity': 'I-PER',\n",
       "  'score': 0.9951816,\n",
       "  'index': 29,\n",
       "  'word': 'h',\n",
       "  'start': 121,\n",
       "  'end': 122},\n",
       " {'entity': 'I-PER',\n",
       "  'score': 0.9952442,\n",
       "  'index': 30,\n",
       "  'word': '▁Le',\n",
       "  'start': 122,\n",
       "  'end': 125},\n",
       " {'entity': 'I-PER',\n",
       "  'score': 0.9952088,\n",
       "  'index': 31,\n",
       "  'word': 'd',\n",
       "  'start': 125,\n",
       "  'end': 126},\n",
       " {'entity': 'I-PER',\n",
       "  'score': 0.9950905,\n",
       "  'index': 32,\n",
       "  'word': 'ger',\n",
       "  'start': 126,\n",
       "  'end': 129},\n",
       " {'entity': 'I-PER',\n",
       "  'score': 0.9949374,\n",
       "  'index': 34,\n",
       "  'word': '▁Jason',\n",
       "  'start': 130,\n",
       "  'end': 136},\n",
       " {'entity': 'I-PER',\n",
       "  'score': 0.9952884,\n",
       "  'index': 35,\n",
       "  'word': '▁Is',\n",
       "  'start': 136,\n",
       "  'end': 139},\n",
       " {'entity': 'I-PER',\n",
       "  'score': 0.9952407,\n",
       "  'index': 36,\n",
       "  'word': 'a',\n",
       "  'start': 139,\n",
       "  'end': 140},\n",
       " {'entity': 'I-PER',\n",
       "  'score': 0.99505484,\n",
       "  'index': 37,\n",
       "  'word': 'ac',\n",
       "  'start': 140,\n",
       "  'end': 142},\n",
       " {'entity': 'I-PER',\n",
       "  'score': 0.99514586,\n",
       "  'index': 38,\n",
       "  'word': 's',\n",
       "  'start': 142,\n",
       "  'end': 143}]"
      ]
     },
     "execution_count": 5,
     "metadata": {},
     "output_type": "execute_result"
    }
   ],
   "source": [
    "pipe(examples[0])"
   ]
  },
  {
   "cell_type": "markdown",
   "id": "8ae4caf9",
   "metadata": {},
   "source": [
    "# Post-processing function"
   ]
  },
  {
   "cell_type": "code",
   "execution_count": 6,
   "id": "f00dafae",
   "metadata": {
    "scrolled": false
   },
   "outputs": [],
   "source": [
    "def ner(text):\n",
    "    output = pipe(text)\n",
    "    if len(output) == 0:\n",
    "        pass\n",
    "    else:\n",
    "        res = []\n",
    "        merged = output[0]\n",
    "        for i in range(1, len(output)):\n",
    "            _next = output[i]\n",
    "            if (_next[\"start\"] != merged[\"end\"]) or (_next['entity'].startswith('B')):\n",
    "                merged[\"entity\"] = merged[\"entity\"].split(\"-\")[-1]\n",
    "                res.append(merged)\n",
    "                merged = _next\n",
    "            else:\n",
    "                merged = {\n",
    "                    'entity': merged[\"entity\"],\n",
    "                    'score': merged[\"score\"],\n",
    "                    'index': merged[\"index\"],\n",
    "                    'word': merged[\"word\"] + _next[\"word\"],\n",
    "                    'start': merged[\"start\"],\n",
    "                    'end': _next[\"end\"]\n",
    "                }\n",
    "        merged[\"entity\"] = merged[\"entity\"].split(\"-\")[-1]\n",
    "        res.append(merged)\n",
    "        output = res\n",
    "    return {\"text\": text, \"entities\": output}    "
   ]
  },
  {
   "cell_type": "code",
   "execution_count": 7,
   "id": "bdae4dec",
   "metadata": {},
   "outputs": [
    {
     "data": {
      "text/plain": [
       "[{'entity': 'PER',\n",
       "  'score': 0.99518096,\n",
       "  'index': 22,\n",
       "  'word': 'Mel▁Gibson',\n",
       "  'start': 105,\n",
       "  'end': 115},\n",
       " {'entity': 'PER',\n",
       "  'score': 0.9950518,\n",
       "  'index': 28,\n",
       "  'word': '▁Heath▁Ledger',\n",
       "  'start': 116,\n",
       "  'end': 129},\n",
       " {'entity': 'PER',\n",
       "  'score': 0.9949374,\n",
       "  'index': 34,\n",
       "  'word': '▁Jason▁Isaacs',\n",
       "  'start': 130,\n",
       "  'end': 143}]"
      ]
     },
     "execution_count": 7,
     "metadata": {},
     "output_type": "execute_result"
    }
   ],
   "source": [
    "ner(examples[0])[\"entities\"]"
   ]
  },
  {
   "cell_type": "markdown",
   "id": "83859603",
   "metadata": {},
   "source": [
    "# Demo"
   ]
  },
  {
   "cell_type": "code",
   "execution_count": 8,
   "id": "8b958f2e",
   "metadata": {
    "scrolled": false
   },
   "outputs": [
    {
     "name": "stdout",
     "output_type": "stream",
     "text": [
      "Running on local URL:  http://127.0.0.1:7860\n",
      "\n",
      "To create a public link, set `share=True` in `launch()`.\n"
     ]
    },
    {
     "data": {
      "text/html": [
       "<div><iframe src=\"http://127.0.0.1:7860/\" width=\"900\" height=\"950\" allow=\"autoplay; camera; microphone; clipboard-read; clipboard-write;\" frameborder=\"0\" allowfullscreen></iframe></div>"
      ],
      "text/plain": [
       "<IPython.core.display.HTML object>"
      ]
     },
     "metadata": {},
     "output_type": "display_data"
    },
    {
     "data": {
      "text/plain": [
       "(<gradio.routes.App at 0x1060fcd00>, 'http://127.0.0.1:7860/', None)"
      ]
     },
     "execution_count": 8,
     "metadata": {},
     "output_type": "execute_result"
    }
   ],
   "source": [
    "demo = gr.Interface(ner,\n",
    "                    gr.Textbox(placeholder=\"Écrire une phrase ici...\"), \n",
    "                    gr.HighlightedText(),\n",
    "                    examples=examples, \n",
    "                    allow_flagging=\"never\")\n",
    "\n",
    "demo.launch(height=950)"
   ]
  }
 ],
 "metadata": {
  "kernelspec": {
   "display_name": "Python 3 (ipykernel)",
   "language": "python",
   "name": "python3"
  },
  "language_info": {
   "codemirror_mode": {
    "name": "ipython",
    "version": 3
   },
   "file_extension": ".py",
   "mimetype": "text/x-python",
   "name": "python",
   "nbconvert_exporter": "python",
   "pygments_lexer": "ipython3",
   "version": "3.10.6"
  }
 },
 "nbformat": 4,
 "nbformat_minor": 5
}
